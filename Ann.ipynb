{
 "cells": [
  {
   "cell_type": "code",
   "execution_count": 1,
   "metadata": {},
   "outputs": [
    {
     "name": "stderr",
     "output_type": "stream",
     "text": [
      "C:\\Users\\sukhm\\AppData\\Local\\Temp\\ipykernel_7476\\1103925618.py:1: DeprecationWarning: \n",
      "Pyarrow will become a required dependency of pandas in the next major release of pandas (pandas 3.0),\n",
      "(to allow more performant data types, such as the Arrow string type, and better interoperability with other libraries)\n",
      "but was not found to be installed on your system.\n",
      "If this would cause problems for you,\n",
      "please provide us feedback at https://github.com/pandas-dev/pandas/issues/54466\n",
      "        \n",
      "  import pandas as pd\n"
     ]
    },
    {
     "name": "stdout",
     "output_type": "stream",
     "text": [
      "WARNING:tensorflow:From c:\\Users\\sukhm\\AppData\\Local\\Programs\\Python\\Python311\\Lib\\site-packages\\keras\\src\\losses.py:2976: The name tf.losses.sparse_softmax_cross_entropy is deprecated. Please use tf.compat.v1.losses.sparse_softmax_cross_entropy instead.\n",
      "\n"
     ]
    }
   ],
   "source": [
    "import pandas as pd \n",
    "import numpy as np \n",
    "import matplotlib.pyplot as plt \n",
    "import tensorflow as tf "
   ]
  },
  {
   "cell_type": "code",
   "execution_count": 4,
   "metadata": {},
   "outputs": [],
   "source": [
    "data = pd.read_excel('Folds5x2_pp.xlsx')"
   ]
  },
  {
   "cell_type": "code",
   "execution_count": 5,
   "metadata": {},
   "outputs": [
    {
     "data": {
      "text/html": [
       "<div>\n",
       "<style scoped>\n",
       "    .dataframe tbody tr th:only-of-type {\n",
       "        vertical-align: middle;\n",
       "    }\n",
       "\n",
       "    .dataframe tbody tr th {\n",
       "        vertical-align: top;\n",
       "    }\n",
       "\n",
       "    .dataframe thead th {\n",
       "        text-align: right;\n",
       "    }\n",
       "</style>\n",
       "<table border=\"1\" class=\"dataframe\">\n",
       "  <thead>\n",
       "    <tr style=\"text-align: right;\">\n",
       "      <th></th>\n",
       "      <th>AT</th>\n",
       "      <th>V</th>\n",
       "      <th>AP</th>\n",
       "      <th>RH</th>\n",
       "      <th>PE</th>\n",
       "    </tr>\n",
       "  </thead>\n",
       "  <tbody>\n",
       "    <tr>\n",
       "      <th>0</th>\n",
       "      <td>14.96</td>\n",
       "      <td>41.76</td>\n",
       "      <td>1024.07</td>\n",
       "      <td>73.17</td>\n",
       "      <td>463.26</td>\n",
       "    </tr>\n",
       "    <tr>\n",
       "      <th>1</th>\n",
       "      <td>25.18</td>\n",
       "      <td>62.96</td>\n",
       "      <td>1020.04</td>\n",
       "      <td>59.08</td>\n",
       "      <td>444.37</td>\n",
       "    </tr>\n",
       "    <tr>\n",
       "      <th>2</th>\n",
       "      <td>5.11</td>\n",
       "      <td>39.40</td>\n",
       "      <td>1012.16</td>\n",
       "      <td>92.14</td>\n",
       "      <td>488.56</td>\n",
       "    </tr>\n",
       "    <tr>\n",
       "      <th>3</th>\n",
       "      <td>20.86</td>\n",
       "      <td>57.32</td>\n",
       "      <td>1010.24</td>\n",
       "      <td>76.64</td>\n",
       "      <td>446.48</td>\n",
       "    </tr>\n",
       "    <tr>\n",
       "      <th>4</th>\n",
       "      <td>10.82</td>\n",
       "      <td>37.50</td>\n",
       "      <td>1009.23</td>\n",
       "      <td>96.62</td>\n",
       "      <td>473.90</td>\n",
       "    </tr>\n",
       "    <tr>\n",
       "      <th>...</th>\n",
       "      <td>...</td>\n",
       "      <td>...</td>\n",
       "      <td>...</td>\n",
       "      <td>...</td>\n",
       "      <td>...</td>\n",
       "    </tr>\n",
       "    <tr>\n",
       "      <th>9563</th>\n",
       "      <td>16.65</td>\n",
       "      <td>49.69</td>\n",
       "      <td>1014.01</td>\n",
       "      <td>91.00</td>\n",
       "      <td>460.03</td>\n",
       "    </tr>\n",
       "    <tr>\n",
       "      <th>9564</th>\n",
       "      <td>13.19</td>\n",
       "      <td>39.18</td>\n",
       "      <td>1023.67</td>\n",
       "      <td>66.78</td>\n",
       "      <td>469.62</td>\n",
       "    </tr>\n",
       "    <tr>\n",
       "      <th>9565</th>\n",
       "      <td>31.32</td>\n",
       "      <td>74.33</td>\n",
       "      <td>1012.92</td>\n",
       "      <td>36.48</td>\n",
       "      <td>429.57</td>\n",
       "    </tr>\n",
       "    <tr>\n",
       "      <th>9566</th>\n",
       "      <td>24.48</td>\n",
       "      <td>69.45</td>\n",
       "      <td>1013.86</td>\n",
       "      <td>62.39</td>\n",
       "      <td>435.74</td>\n",
       "    </tr>\n",
       "    <tr>\n",
       "      <th>9567</th>\n",
       "      <td>21.60</td>\n",
       "      <td>62.52</td>\n",
       "      <td>1017.23</td>\n",
       "      <td>67.87</td>\n",
       "      <td>453.28</td>\n",
       "    </tr>\n",
       "  </tbody>\n",
       "</table>\n",
       "<p>9568 rows × 5 columns</p>\n",
       "</div>"
      ],
      "text/plain": [
       "         AT      V       AP     RH      PE\n",
       "0     14.96  41.76  1024.07  73.17  463.26\n",
       "1     25.18  62.96  1020.04  59.08  444.37\n",
       "2      5.11  39.40  1012.16  92.14  488.56\n",
       "3     20.86  57.32  1010.24  76.64  446.48\n",
       "4     10.82  37.50  1009.23  96.62  473.90\n",
       "...     ...    ...      ...    ...     ...\n",
       "9563  16.65  49.69  1014.01  91.00  460.03\n",
       "9564  13.19  39.18  1023.67  66.78  469.62\n",
       "9565  31.32  74.33  1012.92  36.48  429.57\n",
       "9566  24.48  69.45  1013.86  62.39  435.74\n",
       "9567  21.60  62.52  1017.23  67.87  453.28\n",
       "\n",
       "[9568 rows x 5 columns]"
      ]
     },
     "execution_count": 5,
     "metadata": {},
     "output_type": "execute_result"
    }
   ],
   "source": [
    "data"
   ]
  },
  {
   "cell_type": "code",
   "execution_count": 8,
   "metadata": {},
   "outputs": [],
   "source": [
    "x = data.iloc[:,::-1].values\n",
    "y = data.iloc[:,-1].values"
   ]
  },
  {
   "cell_type": "code",
   "execution_count": 10,
   "metadata": {},
   "outputs": [],
   "source": [
    "from sklearn.model_selection import train_test_split\n",
    "xtrain,xtest,ytrain,ytest=train_test_split(x,y,test_size=.2,random_state=0)"
   ]
  },
  {
   "cell_type": "code",
   "execution_count": 11,
   "metadata": {},
   "outputs": [
    {
     "name": "stdout",
     "output_type": "stream",
     "text": [
      "WARNING:tensorflow:From c:\\Users\\sukhm\\AppData\\Local\\Programs\\Python\\Python311\\Lib\\site-packages\\keras\\src\\backend.py:873: The name tf.get_default_graph is deprecated. Please use tf.compat.v1.get_default_graph instead.\n",
      "\n"
     ]
    }
   ],
   "source": [
    "ann = tf.keras.models.Sequential()"
   ]
  },
  {
   "cell_type": "code",
   "execution_count": 13,
   "metadata": {},
   "outputs": [],
   "source": [
    "ann.add(tf.keras.layers.Dense(units=4, activation='relu'))"
   ]
  },
  {
   "cell_type": "code",
   "execution_count": 14,
   "metadata": {},
   "outputs": [],
   "source": [
    "ann.add(tf.keras.layers.Dense(units=4,activation='relu'))"
   ]
  },
  {
   "cell_type": "code",
   "execution_count": 15,
   "metadata": {},
   "outputs": [],
   "source": [
    "ann.add(tf.keras.layers.Dense(units=1))"
   ]
  },
  {
   "cell_type": "code",
   "execution_count": 17,
   "metadata": {},
   "outputs": [],
   "source": [
    "ann.compile(optimizer='adam',loss='mean_squared_error')"
   ]
  },
  {
   "cell_type": "code",
   "execution_count": 36,
   "metadata": {},
   "outputs": [
    {
     "name": "stdout",
     "output_type": "stream",
     "text": [
      "Epoch 1/40\n",
      "240/240 [==============================] - 0s 2ms/step - loss: 0.0036\n",
      "Epoch 2/40\n",
      "240/240 [==============================] - 0s 2ms/step - loss: 0.0039\n",
      "Epoch 3/40\n",
      "240/240 [==============================] - 0s 1ms/step - loss: 0.0035\n",
      "Epoch 4/40\n",
      "240/240 [==============================] - 0s 1ms/step - loss: 0.0031\n",
      "Epoch 5/40\n",
      "240/240 [==============================] - 0s 1ms/step - loss: 0.0038\n",
      "Epoch 6/40\n",
      "240/240 [==============================] - 0s 1ms/step - loss: 0.0033\n",
      "Epoch 7/40\n",
      "240/240 [==============================] - 0s 1ms/step - loss: 0.0042\n",
      "Epoch 8/40\n",
      "240/240 [==============================] - 0s 1ms/step - loss: 0.0041\n",
      "Epoch 9/40\n",
      "240/240 [==============================] - 0s 1ms/step - loss: 0.0029\n",
      "Epoch 10/40\n",
      "240/240 [==============================] - 0s 2ms/step - loss: 0.0035\n",
      "Epoch 11/40\n",
      "240/240 [==============================] - 0s 1ms/step - loss: 0.0028\n",
      "Epoch 12/40\n",
      "240/240 [==============================] - 0s 1ms/step - loss: 0.0040\n",
      "Epoch 13/40\n",
      "240/240 [==============================] - 0s 1ms/step - loss: 0.0030\n",
      "Epoch 14/40\n",
      "240/240 [==============================] - 0s 1ms/step - loss: 0.0041\n",
      "Epoch 15/40\n",
      "240/240 [==============================] - 0s 1ms/step - loss: 0.0034\n",
      "Epoch 16/40\n",
      "240/240 [==============================] - 0s 1ms/step - loss: 0.0029\n",
      "Epoch 17/40\n",
      "240/240 [==============================] - 0s 1ms/step - loss: 0.0041\n",
      "Epoch 18/40\n",
      "240/240 [==============================] - 0s 1ms/step - loss: 0.0041\n",
      "Epoch 19/40\n",
      "240/240 [==============================] - 0s 1ms/step - loss: 0.0026\n",
      "Epoch 20/40\n",
      "240/240 [==============================] - 0s 1ms/step - loss: 0.0047\n",
      "Epoch 21/40\n",
      "240/240 [==============================] - 0s 1ms/step - loss: 0.0032\n",
      "Epoch 22/40\n",
      "240/240 [==============================] - 0s 1ms/step - loss: 0.0031\n",
      "Epoch 23/40\n",
      "240/240 [==============================] - 0s 1ms/step - loss: 0.0041\n",
      "Epoch 24/40\n",
      "240/240 [==============================] - 0s 1ms/step - loss: 0.0042\n",
      "Epoch 25/40\n",
      "240/240 [==============================] - 0s 1ms/step - loss: 0.0023\n",
      "Epoch 26/40\n",
      "240/240 [==============================] - 0s 1ms/step - loss: 0.0041\n",
      "Epoch 27/40\n",
      "240/240 [==============================] - 0s 1ms/step - loss: 0.0035\n",
      "Epoch 28/40\n",
      "240/240 [==============================] - 0s 1ms/step - loss: 0.0032\n",
      "Epoch 29/40\n",
      "240/240 [==============================] - 0s 1ms/step - loss: 0.0038\n",
      "Epoch 30/40\n",
      "240/240 [==============================] - 0s 1ms/step - loss: 0.0037\n",
      "Epoch 31/40\n",
      "240/240 [==============================] - 0s 1ms/step - loss: 0.0030\n",
      "Epoch 32/40\n",
      "240/240 [==============================] - 0s 1ms/step - loss: 0.0035\n",
      "Epoch 33/40\n",
      "240/240 [==============================] - 0s 1ms/step - loss: 0.0046\n",
      "Epoch 34/40\n",
      "240/240 [==============================] - 0s 1ms/step - loss: 0.0025\n",
      "Epoch 35/40\n",
      "240/240 [==============================] - 0s 1ms/step - loss: 0.0040\n",
      "Epoch 36/40\n",
      "240/240 [==============================] - 0s 1ms/step - loss: 0.0030\n",
      "Epoch 37/40\n",
      "240/240 [==============================] - 0s 1ms/step - loss: 0.0038\n",
      "Epoch 38/40\n",
      "240/240 [==============================] - 0s 1ms/step - loss: 0.0036\n",
      "Epoch 39/40\n",
      "240/240 [==============================] - 0s 1ms/step - loss: 0.0044\n",
      "Epoch 40/40\n",
      "240/240 [==============================] - 0s 1ms/step - loss: 0.0026\n"
     ]
    },
    {
     "data": {
      "text/plain": [
       "<keras.src.callbacks.History at 0x231dfe37990>"
      ]
     },
     "execution_count": 36,
     "metadata": {},
     "output_type": "execute_result"
    }
   ],
   "source": [
    "ann.fit(xtrain,ytrain,batch_size=32,epochs=40)"
   ]
  },
  {
   "cell_type": "code",
   "execution_count": 37,
   "metadata": {},
   "outputs": [
    {
     "name": "stdout",
     "output_type": "stream",
     "text": [
      "60/60 [==============================] - 0s 1ms/step\n",
      "<contextlib._GeneratorContextManager object at 0x00000231DE1E3450>\n"
     ]
    }
   ],
   "source": [
    "res = ann.predict(xtest)\n",
    "print(np.printoptions(precision=2))"
   ]
  },
  {
   "cell_type": "code",
   "execution_count": 38,
   "metadata": {},
   "outputs": [],
   "source": [
    "res = res.reshape(len(res),1)\n",
    "ytest = ytest.reshape(len(ytest),1)"
   ]
  },
  {
   "cell_type": "code",
   "execution_count": 39,
   "metadata": {},
   "outputs": [
    {
     "data": {
      "text/plain": [
       "array([[431.25946045, 431.23      ],\n",
       "       [460.04425049, 460.01      ],\n",
       "       [461.17382812, 461.14      ],\n",
       "       ...,\n",
       "       [473.29360962, 473.26      ],\n",
       "       [438.02481079, 438.        ],\n",
       "       [463.30505371, 463.28      ]])"
      ]
     },
     "execution_count": 39,
     "metadata": {},
     "output_type": "execute_result"
    }
   ],
   "source": [
    "np.concatenate((res,ytest),1)"
   ]
  },
  {
   "cell_type": "code",
   "execution_count": null,
   "metadata": {},
   "outputs": [],
   "source": []
  }
 ],
 "metadata": {
  "kernelspec": {
   "display_name": "Python 3",
   "language": "python",
   "name": "python3"
  },
  "language_info": {
   "codemirror_mode": {
    "name": "ipython",
    "version": 3
   },
   "file_extension": ".py",
   "mimetype": "text/x-python",
   "name": "python",
   "nbconvert_exporter": "python",
   "pygments_lexer": "ipython3",
   "version": "3.11.8"
  }
 },
 "nbformat": 4,
 "nbformat_minor": 2
}
